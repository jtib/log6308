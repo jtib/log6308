{
 "cells": [
  {
   "cell_type": "code",
   "execution_count": 5,
   "metadata": {},
   "outputs": [
    {
     "name": "stderr",
     "output_type": "stream",
     "text": [
      "Loading required package: bitops\n"
     ]
    },
    {
     "data": {
      "text/html": [
       "<table>\n",
       "<thead><tr><th scope=col>user.id</th><th scope=col>item.id</th><th scope=col>rating</th><th scope=col>timestamp</th></tr></thead>\n",
       "<tbody>\n",
       "\t<tr><td>196      </td><td>242      </td><td>3        </td><td>881250949</td></tr>\n",
       "\t<tr><td>186      </td><td>302      </td><td>3        </td><td>891717742</td></tr>\n",
       "\t<tr><td> 22      </td><td>377      </td><td>1        </td><td>878887116</td></tr>\n",
       "\t<tr><td>244      </td><td> 51      </td><td>2        </td><td>880606923</td></tr>\n",
       "\t<tr><td>166      </td><td>346      </td><td>1        </td><td>886397596</td></tr>\n",
       "\t<tr><td>298      </td><td>474      </td><td>4        </td><td>884182806</td></tr>\n",
       "</tbody>\n",
       "</table>\n"
      ],
      "text/latex": [
       "\\begin{tabular}{r|llll}\n",
       " user.id & item.id & rating & timestamp\\\\\n",
       "\\hline\n",
       "\t 196       & 242       & 3         & 881250949\\\\\n",
       "\t 186       & 302       & 3         & 891717742\\\\\n",
       "\t  22       & 377       & 1         & 878887116\\\\\n",
       "\t 244       &  51       & 2         & 880606923\\\\\n",
       "\t 166       & 346       & 1         & 886397596\\\\\n",
       "\t 298       & 474       & 4         & 884182806\\\\\n",
       "\\end{tabular}\n"
      ],
      "text/markdown": [
       "\n",
       "user.id | item.id | rating | timestamp | \n",
       "|---|---|---|---|---|---|\n",
       "| 196       | 242       | 3         | 881250949 | \n",
       "| 186       | 302       | 3         | 891717742 | \n",
       "|  22       | 377       | 1         | 878887116 | \n",
       "| 244       |  51       | 2         | 880606923 | \n",
       "| 166       | 346       | 1         | 886397596 | \n",
       "| 298       | 474       | 4         | 884182806 | \n",
       "\n",
       "\n"
      ],
      "text/plain": [
       "  user.id item.id rating timestamp\n",
       "1 196     242     3      881250949\n",
       "2 186     302     3      891717742\n",
       "3  22     377     1      878887116\n",
       "4 244      51     2      880606923\n",
       "5 166     346     1      886397596\n",
       "6 298     474     4      884182806"
      ]
     },
     "metadata": {},
     "output_type": "display_data"
    },
    {
     "data": {
      "text/html": [
       "1.23382"
      ],
      "text/latex": [
       "1.23382"
      ],
      "text/markdown": [
       "1.23382"
      ],
      "text/plain": [
       "[1] 1.23382"
      ]
     },
     "metadata": {},
     "output_type": "display_data"
    },
    {
     "data": {
      "text/html": [
       "0"
      ],
      "text/latex": [
       "0"
      ],
      "text/markdown": [
       "0"
      ],
      "text/plain": [
       "[1] 0"
      ]
     },
     "metadata": {},
     "output_type": "display_data"
    }
   ],
   "source": [
    "#############################################################################\n",
    "## Ce code représente un exemple de prédictions avec des valeurs au\n",
    "## hasard et les valeurs attendues\n",
    "#############################################################################\n",
    "\n",
    "library(Matrix)\n",
    "library(RCurl)\n",
    "u.data <- read.csv('u.data.csv', sep='|', header=T)\n",
    "head(u.data)\n",
    "m <- sparseMatrix(u.data[,1],u.data[,2],x=u.data[,3])\n",
    "rownames(m) <- paste('u', 1:nrow(m), sep='')\n",
    "colnames(m) <- paste('i', 1:ncol(m), sep='')\n",
    "m <- as.matrix(m)\n",
    "## m est u.data\n",
    "m.na <- m\n",
    "m.na[m==0] <- NA\n",
    "############################################################################\n",
    "### Votes au hasard\n",
    "m.hasard <- m.na\n",
    "m.hasard[m>0] <- sample(m.hasard[m>0], sum(m>0))\n",
    "mae <- function(m1, m2) mean(abs(m1 - m2), na.rm=T)\n",
    "mae(m.hasard, m.na)\n",
    "0"
   ]
  },
  {
   "cell_type": "code",
   "execution_count": 47,
   "metadata": {},
   "outputs": [],
   "source": [
    "# Question 2\n",
    "# Normalisation\n",
    "## Calcul des votes moyens\n",
    "votes.utilisateurs.moyen <- rowMeans(m.na, na.rm=T)\n",
    "votes.items.moyen <- colMeans(m.na, na.rm=T)\n",
    "## Utilitaires\n",
    "`%-=%` = function(e1,e2) eval.parent(substitute(e1 <- e1 - e2))\n",
    "`%+=%` = function(e1,e2) eval.parent(substitute(e1 <- e1 + e2))\n",
    "## Remplacement des NA par les votes moyens sur les items correspondants\n",
    "indx <- is.na(t(m.na))\n",
    "m.filled <- t(m.na)\n",
    "m.filled[indx] <- votes.items.moyen[col(m.filled)][indx]\n",
    "m.filled <- t(m.filled)\n",
    "## Normalisation en soustrayant les votes moyens des utilisateurs correspondants\n",
    "m.filled[,1:ncol(m)] %-=% votes.utilisateurs.moyen\n",
    "# SVD\n",
    "m.svd <- svd(m.filled)"
   ]
  },
  {
   "cell_type": "code",
   "execution_count": 69,
   "metadata": {},
   "outputs": [
    {
     "data": {
      "text/html": [
       "<ol>\n",
       "\t<li>5</li>\n",
       "</ol>\n"
      ],
      "text/latex": [
       "\\begin{enumerate}\n",
       "\\item 5\n",
       "\\end{enumerate}\n"
      ],
      "text/markdown": [
       "1. 5\n",
       "\n",
       "\n"
      ],
      "text/plain": [
       "[[1]]\n",
       "[1] 5\n"
      ]
     },
     "metadata": {},
     "output_type": "display_data"
    }
   ],
   "source": []
  },
  {
   "cell_type": "code",
   "execution_count": 48,
   "metadata": {},
   "outputs": [
    {
     "data": {
      "text/html": [
       "21"
      ],
      "text/latex": [
       "21"
      ],
      "text/markdown": [
       "21"
      ],
      "text/plain": [
       "[1] 21"
      ]
     },
     "metadata": {},
     "output_type": "display_data"
    }
   ],
   "source": [
    "# Question 5\n",
    "# Matrices U, S et V\n",
    "U <- m.svd$u\n",
    "S <- diag(m.svd$d)\n",
    "V <- m.svd$v\n",
    "# Matrices Sk\n",
    "compute.Sk <- function(k){\n",
    "    return(diag(m.svd$d[1:k]))\n",
    "}\n",
    "list.Sk <- list()\n",
    "aux <- c(2,5:21,25,50,100)\n",
    "list.Sk <- lapply(aux, compute.Sk)\n",
    "length(list.Sk)"
   ]
  },
  {
   "cell_type": "code",
   "execution_count": 49,
   "metadata": {},
   "outputs": [],
   "source": [
    "# Racine carrée de chaque Sk\n",
    "# Note : diag n'est pas une opération très efficace.\n",
    "list.Sk.roots <- lapply(list.Sk, function(x) diag(sqrt(diag(x))))"
   ]
  },
  {
   "cell_type": "code",
   "execution_count": 101,
   "metadata": {},
   "outputs": [],
   "source": [
    "# Uk*Sk^1/2 et Sk^1/2*Vk\n",
    "list.Uk <- lapply(aux, function(k) U[,1:k])\n",
    "list.Vk <- lapply(aux, function(k) V[,1:k])\n",
    "list.UkSk <- mapply(function(M,N) M%*%N, list.Uk, list.Sk.roots)\n",
    "list.SkVk <- mapply(function(M,N) M%*%t(N), list.Sk.roots, list.Vk)\n",
    "# UkSkVk'\n",
    "list.UkSkVk <- list()\n",
    "list.UkSkVk <- mapply(function(M,N) M%*%N, list.UkSk, list.SkVk, SIMPLIFY=F)\n",
    "# Dénormalisation\n",
    "tmp <- 1:21\n",
    "P <- lapply(tmp, function(k) {list.UkSkVk[[k]][,1:1682] %+=% votes.utilisateurs.moyen; list.UkSkVk[[k]]})"
   ]
  },
  {
   "cell_type": "code",
   "execution_count": 118,
   "metadata": {},
   "outputs": [
    {
     "data": {
      "image/png": "[encoded data removed]",
      "text/plain": [
       "plot without title"
      ]
     },
     "metadata": {},
     "output_type": "display_data"
    }
   ],
   "source": [
    "# Prediction (MAE)\n",
    "votes.attendus <- outer(votes.utilisateurs.moyen, votes.items.moyen, FUN='+')/2# pas sûre du tout qu'on doive comparer à ça\n",
    "err <- lapply(tmp, function(k) mae(votes.attendus, P[[k]]))\n",
    "plot(unlist(err))\n",
    "# d'autant que comme ça on a une erreur strictement croissante selon le nombre de dimensions, pareil avec m.hasard\n",
    "# ce qui est normal : on compare à la moyenne ; moins on a de dimensions, moins on a de détails, moins on a d'écart à la moyenne\n",
    "# mais ça ne nous apporte pas l'information nécessaire pour trouver la dimension idéale"
   ]
  },
  {
   "cell_type": "code",
   "execution_count": 115,
   "metadata": {},
   "outputs": [
    {
     "data": {
      "text/html": [
       "6"
      ],
      "text/latex": [
       "6"
      ],
      "text/markdown": [
       "6"
      ],
      "text/plain": [
       "[1] 6"
      ]
     },
     "metadata": {},
     "output_type": "display_data"
    },
    {
     "data": {
      "text/plain": [
       "m.na.train\n",
       "    1     2     3     4     5 \n",
       " 5062  9470 22479 28405 17695 "
      ]
     },
     "metadata": {},
     "output_type": "display_data"
    },
    {
     "data": {
      "text/html": [
       "NaN"
      ],
      "text/latex": [
       "NaN"
      ],
      "text/markdown": [
       "NaN"
      ],
      "text/plain": [
       "[1] NaN"
      ]
     },
     "metadata": {},
     "output_type": "display_data"
    },
    {
     "data": {
      "text/html": [
       "21"
      ],
      "text/latex": [
       "21"
      ],
      "text/markdown": [
       "21"
      ],
      "text/plain": [
       "[1] 21"
      ]
     },
     "metadata": {},
     "output_type": "display_data"
    },
    {
     "data": {
      "text/html": [
       "3.58952866073901"
      ],
      "text/latex": [
       "3.58952866073901"
      ],
      "text/markdown": [
       "3.58952866073901"
      ],
      "text/plain": [
       "[1] 3.589529"
      ]
     },
     "metadata": {},
     "output_type": "display_data"
    },
    {
     "data": {
      "image/png": "[encoded data removed]",
      "text/plain": [
       "Plot with title “Histogram of votes.films.moyens”"
      ]
     },
     "metadata": {},
     "output_type": "display_data"
    },
    {
     "data": {
      "image/png": "[encoded data removed]",
      "text/plain": [
       "Plot with title “Histogram of votes.utilisateurs.moyen”"
      ]
     },
     "metadata": {},
     "output_type": "display_data"
    },
    {
     "data": {
      "text/html": [
       "0.477316031467106"
      ],
      "text/latex": [
       "0.477316031467106"
      ],
      "text/markdown": [
       "0.477316031467106"
      ],
      "text/plain": [
       "[1] 0.477316"
      ]
     },
     "metadata": {},
     "output_type": "display_data"
    },
    {
     "data": {
      "text/html": [
       "0.477316031467106"
      ],
      "text/latex": [
       "0.477316031467106"
      ],
      "text/markdown": [
       "0.477316031467106"
      ],
      "text/plain": [
       "[1] 0.477316"
      ]
     },
     "metadata": {},
     "output_type": "display_data"
    },
    {
     "data": {
      "text/html": [
       "0.567766011692744"
      ],
      "text/latex": [
       "0.567766011692744"
      ],
      "text/markdown": [
       "0.567766011692744"
      ],
      "text/plain": [
       "[1] 0.567766"
      ]
     },
     "metadata": {},
     "output_type": "display_data"
    },
    {
     "data": {
      "image/png": "[encoded data removed]",
      "text/plain": [
       "Plot with title “Histogram of votes.attendus[i.test.b] - m[i.test.b]”"
      ]
     },
     "metadata": {},
     "output_type": "display_data"
    }
   ],
   "source": [
    "#############################################################################\n",
    "## Avec validation croisée basée sur 10 replis (10 folds).## Le code ne fait qu'un replis.\n",
    "## Le principe consiste premièrement à créer un vecteur de cellules aléatoires qui couvrent l'ensemble de la matrice.  Ce vecteur est ensuite divisé en 10 replis (sections).  Pour chaque repli, un index booléen est créé pour les données de tests et sa négation correspond aux données d'entraînement.\n",
    "## Index aléatoire des données de tests\n",
    "i.observed <- which(m > 0)\n",
    "i.hasard <- sample(i.observed, length(i.observed))\n",
    "length(i.hasard)\n",
    "fold.size <- round(length(i.hasard) / 10)\n",
    "i.false <- rep(FALSE, length(m))\n",
    "fold.number <- 1\n",
    "## Index booléen pour les cellules de test et d'entraînement\n",
    "i.test.b <- i.false## Les cellules indexées du replis correspondant sont fixées à TRUE pour le test...\n",
    "i.test.b[ i.hasard[((fold.number-1) * fold.size):((fold.number) * fold.size)] ] <- TRUE## ...et à FALSE pour l'entraînement\n",
    "i.train.b <-  !i.test.b\n",
    "m.na.train <- m.na\n",
    "m.na.train[i.test.b] <- NA                # on enlève les données de test pour l'entraînement\n",
    "table(m.na.train)\n",
    "votes.films.moyens <- colMeans(m.na.train, na.rm=T)\n",
    "mean(votes.films.moyens)                # des NaN pourraient être créés car certains films n'ont plus aucun vote## Il faudrait alors remplacer ces colonnes par une valeur correspondant à la moyenne générale.\n",
    "moy.globale <- mean(m.na.train, na.rm=T)\n",
    "films.sans.votes <- colSums(m.na.train, na.rm=T) == 0\n",
    "sum(films.sans.votes)                   # si 0 alors pas besoin de faire l'ajustement suivant\n",
    "m.na[,films.sans.votes] <- moy.globale\n",
    "votes.films.moyen <- colMeans(m.na.train, na.rm=T)## fin de l'ajustement\n",
    "hist(votes.films.moyens)## votes moyens des utilisateurs de test\n",
    "votes.utilisateurs.moyen <- rowMeans(m.na.train, na.rm=T)## pour faire changement, utilisons la moyenne arithmétique\n",
    "mean(votes.utilisateurs.moyen)          # véfication si ajustement nécessaire (ici ce ne l'est pas et on continue sans)\n",
    "hist(votes.utilisateurs.moyen)\n",
    "votes.attendus <- outer(votes.utilisateurs.moyen, votes.films.moyen, FUN='+') / 2## Histogramme des erreurs\n",
    "hist(votes.attendus[i.test.b] - m[i.test.b])## Erreur absolue moyenne\n",
    "mae(votes.attendus[i.test.b], m[i.test.b])\n",
    "mean(abs(votes.attendus[i.test.b] - m[i.test.b]), na.rm=T)## Racine carrée de erreur quadratique moyenne\n",
    "sqrt(mean((votes.attendus[i.test.b] - m[i.test.b])^2, na.rm=T))"
   ]
  }
 ],
 "metadata": {
  "kernelspec": {
   "display_name": "R",
   "language": "R",
   "name": "ir"
  },
  "language_info": {
   "codemirror_mode": "r",
   "file_extension": ".r",
   "mimetype": "text/x-r-source",
   "name": "R",
   "pygments_lexer": "r",
   "version": "3.4.2"
  }
 },
 "nbformat": 4,
 "nbformat_minor": 2
}
